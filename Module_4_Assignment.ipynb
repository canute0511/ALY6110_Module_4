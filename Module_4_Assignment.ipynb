{
  "nbformat": 4,
  "nbformat_minor": 0,
  "metadata": {
    "colab": {
      "provenance": []
    },
    "kernelspec": {
      "name": "python3",
      "display_name": "Python 3"
    },
    "language_info": {
      "name": "python"
    }
  },
  "cells": [
    {
      "cell_type": "code",
      "execution_count": 1,
      "metadata": {
        "colab": {
          "base_uri": "https://localhost:8080/",
          "height": 749
        },
        "id": "WCIbcWv_M9rl",
        "outputId": "51bbe8f3-4003-4119-c77e-a134056efc04"
      },
      "outputs": [
        {
          "output_type": "stream",
          "name": "stdout",
          "text": [
            "+---------+\n",
            "|namespace|\n",
            "+---------+\n",
            "|  default|\n",
            "+---------+\n",
            "\n",
            "+---------+\n",
            "|namespace|\n",
            "+---------+\n",
            "|  bostonh|\n",
            "|  default|\n",
            "+---------+\n",
            "\n"
          ]
        },
        {
          "output_type": "display_data",
          "data": {
            "text/plain": [
              "<IPython.core.display.HTML object>"
            ],
            "text/html": [
              "\n",
              "     <input type=\"file\" id=\"files-9cac7df0-84c5-4966-bb9b-f052544115af\" name=\"files[]\" multiple disabled\n",
              "        style=\"border:none\" />\n",
              "     <output id=\"result-9cac7df0-84c5-4966-bb9b-f052544115af\">\n",
              "      Upload widget is only available when the cell has been executed in the\n",
              "      current browser session. Please rerun this cell to enable.\n",
              "      </output>\n",
              "      <script>// Copyright 2017 Google LLC\n",
              "//\n",
              "// Licensed under the Apache License, Version 2.0 (the \"License\");\n",
              "// you may not use this file except in compliance with the License.\n",
              "// You may obtain a copy of the License at\n",
              "//\n",
              "//      http://www.apache.org/licenses/LICENSE-2.0\n",
              "//\n",
              "// Unless required by applicable law or agreed to in writing, software\n",
              "// distributed under the License is distributed on an \"AS IS\" BASIS,\n",
              "// WITHOUT WARRANTIES OR CONDITIONS OF ANY KIND, either express or implied.\n",
              "// See the License for the specific language governing permissions and\n",
              "// limitations under the License.\n",
              "\n",
              "/**\n",
              " * @fileoverview Helpers for google.colab Python module.\n",
              " */\n",
              "(function(scope) {\n",
              "function span(text, styleAttributes = {}) {\n",
              "  const element = document.createElement('span');\n",
              "  element.textContent = text;\n",
              "  for (const key of Object.keys(styleAttributes)) {\n",
              "    element.style[key] = styleAttributes[key];\n",
              "  }\n",
              "  return element;\n",
              "}\n",
              "\n",
              "// Max number of bytes which will be uploaded at a time.\n",
              "const MAX_PAYLOAD_SIZE = 100 * 1024;\n",
              "\n",
              "function _uploadFiles(inputId, outputId) {\n",
              "  const steps = uploadFilesStep(inputId, outputId);\n",
              "  const outputElement = document.getElementById(outputId);\n",
              "  // Cache steps on the outputElement to make it available for the next call\n",
              "  // to uploadFilesContinue from Python.\n",
              "  outputElement.steps = steps;\n",
              "\n",
              "  return _uploadFilesContinue(outputId);\n",
              "}\n",
              "\n",
              "// This is roughly an async generator (not supported in the browser yet),\n",
              "// where there are multiple asynchronous steps and the Python side is going\n",
              "// to poll for completion of each step.\n",
              "// This uses a Promise to block the python side on completion of each step,\n",
              "// then passes the result of the previous step as the input to the next step.\n",
              "function _uploadFilesContinue(outputId) {\n",
              "  const outputElement = document.getElementById(outputId);\n",
              "  const steps = outputElement.steps;\n",
              "\n",
              "  const next = steps.next(outputElement.lastPromiseValue);\n",
              "  return Promise.resolve(next.value.promise).then((value) => {\n",
              "    // Cache the last promise value to make it available to the next\n",
              "    // step of the generator.\n",
              "    outputElement.lastPromiseValue = value;\n",
              "    return next.value.response;\n",
              "  });\n",
              "}\n",
              "\n",
              "/**\n",
              " * Generator function which is called between each async step of the upload\n",
              " * process.\n",
              " * @param {string} inputId Element ID of the input file picker element.\n",
              " * @param {string} outputId Element ID of the output display.\n",
              " * @return {!Iterable<!Object>} Iterable of next steps.\n",
              " */\n",
              "function* uploadFilesStep(inputId, outputId) {\n",
              "  const inputElement = document.getElementById(inputId);\n",
              "  inputElement.disabled = false;\n",
              "\n",
              "  const outputElement = document.getElementById(outputId);\n",
              "  outputElement.innerHTML = '';\n",
              "\n",
              "  const pickedPromise = new Promise((resolve) => {\n",
              "    inputElement.addEventListener('change', (e) => {\n",
              "      resolve(e.target.files);\n",
              "    });\n",
              "  });\n",
              "\n",
              "  const cancel = document.createElement('button');\n",
              "  inputElement.parentElement.appendChild(cancel);\n",
              "  cancel.textContent = 'Cancel upload';\n",
              "  const cancelPromise = new Promise((resolve) => {\n",
              "    cancel.onclick = () => {\n",
              "      resolve(null);\n",
              "    };\n",
              "  });\n",
              "\n",
              "  // Wait for the user to pick the files.\n",
              "  const files = yield {\n",
              "    promise: Promise.race([pickedPromise, cancelPromise]),\n",
              "    response: {\n",
              "      action: 'starting',\n",
              "    }\n",
              "  };\n",
              "\n",
              "  cancel.remove();\n",
              "\n",
              "  // Disable the input element since further picks are not allowed.\n",
              "  inputElement.disabled = true;\n",
              "\n",
              "  if (!files) {\n",
              "    return {\n",
              "      response: {\n",
              "        action: 'complete',\n",
              "      }\n",
              "    };\n",
              "  }\n",
              "\n",
              "  for (const file of files) {\n",
              "    const li = document.createElement('li');\n",
              "    li.append(span(file.name, {fontWeight: 'bold'}));\n",
              "    li.append(span(\n",
              "        `(${file.type || 'n/a'}) - ${file.size} bytes, ` +\n",
              "        `last modified: ${\n",
              "            file.lastModifiedDate ? file.lastModifiedDate.toLocaleDateString() :\n",
              "                                    'n/a'} - `));\n",
              "    const percent = span('0% done');\n",
              "    li.appendChild(percent);\n",
              "\n",
              "    outputElement.appendChild(li);\n",
              "\n",
              "    const fileDataPromise = new Promise((resolve) => {\n",
              "      const reader = new FileReader();\n",
              "      reader.onload = (e) => {\n",
              "        resolve(e.target.result);\n",
              "      };\n",
              "      reader.readAsArrayBuffer(file);\n",
              "    });\n",
              "    // Wait for the data to be ready.\n",
              "    let fileData = yield {\n",
              "      promise: fileDataPromise,\n",
              "      response: {\n",
              "        action: 'continue',\n",
              "      }\n",
              "    };\n",
              "\n",
              "    // Use a chunked sending to avoid message size limits. See b/62115660.\n",
              "    let position = 0;\n",
              "    do {\n",
              "      const length = Math.min(fileData.byteLength - position, MAX_PAYLOAD_SIZE);\n",
              "      const chunk = new Uint8Array(fileData, position, length);\n",
              "      position += length;\n",
              "\n",
              "      const base64 = btoa(String.fromCharCode.apply(null, chunk));\n",
              "      yield {\n",
              "        response: {\n",
              "          action: 'append',\n",
              "          file: file.name,\n",
              "          data: base64,\n",
              "        },\n",
              "      };\n",
              "\n",
              "      let percentDone = fileData.byteLength === 0 ?\n",
              "          100 :\n",
              "          Math.round((position / fileData.byteLength) * 100);\n",
              "      percent.textContent = `${percentDone}% done`;\n",
              "\n",
              "    } while (position < fileData.byteLength);\n",
              "  }\n",
              "\n",
              "  // All done.\n",
              "  yield {\n",
              "    response: {\n",
              "      action: 'complete',\n",
              "    }\n",
              "  };\n",
              "}\n",
              "\n",
              "scope.google = scope.google || {};\n",
              "scope.google.colab = scope.google.colab || {};\n",
              "scope.google.colab._files = {\n",
              "  _uploadFiles,\n",
              "  _uploadFilesContinue,\n",
              "};\n",
              "})(self);\n",
              "</script> "
            ]
          },
          "metadata": {}
        },
        {
          "output_type": "stream",
          "name": "stdout",
          "text": [
            "Saving BostonHousing.csv to BostonHousing.csv\n",
            "+-------+----+-----+----+-----+-----+-----+------+---+---+-------+------+-----+----+\n",
            "|   crim|  zn|indus|chas|  nox|   rm|  age|   dis|rad|tax|ptratio|     b|lstat|medv|\n",
            "+-------+----+-----+----+-----+-----+-----+------+---+---+-------+------+-----+----+\n",
            "|0.00632|18.0| 2.31|   0|0.538|6.575| 65.2|  4.09|  1|296|   15.3| 396.9| 4.98|24.0|\n",
            "|0.02731| 0.0| 7.07|   0|0.469|6.421| 78.9|4.9671|  2|242|   17.8| 396.9| 9.14|21.6|\n",
            "|0.02729| 0.0| 7.07|   0|0.469|7.185| 61.1|4.9671|  2|242|   17.8|392.83| 4.03|34.7|\n",
            "|0.03237| 0.0| 2.18|   0|0.458|6.998| 45.8|6.0622|  3|222|   18.7|394.63| 2.94|33.4|\n",
            "|0.06905| 0.0| 2.18|   0|0.458|7.147| 54.2|6.0622|  3|222|   18.7| 396.9| 5.33|36.2|\n",
            "|0.02985| 0.0| 2.18|   0|0.458| 6.43| 58.7|6.0622|  3|222|   18.7|394.12| 5.21|28.7|\n",
            "|0.08829|12.5| 7.87|   0|0.524|6.012| 66.6|5.5605|  5|311|   15.2| 395.6|12.43|22.9|\n",
            "|0.14455|12.5| 7.87|   0|0.524|6.172| 96.1|5.9505|  5|311|   15.2| 396.9|19.15|27.1|\n",
            "|0.21124|12.5| 7.87|   0|0.524|5.631|100.0|6.0821|  5|311|   15.2|386.63|29.93|16.5|\n",
            "|0.17004|12.5| 7.87|   0|0.524|6.004| 85.9|6.5921|  5|311|   15.2|386.71| 17.1|18.9|\n",
            "|0.22489|12.5| 7.87|   0|0.524|6.377| 94.3|6.3467|  5|311|   15.2|392.52|20.45|15.0|\n",
            "|0.11747|12.5| 7.87|   0|0.524|6.009| 82.9|6.2267|  5|311|   15.2| 396.9|13.27|18.9|\n",
            "|0.09378|12.5| 7.87|   0|0.524|5.889| 39.0|5.4509|  5|311|   15.2| 390.5|15.71|21.7|\n",
            "|0.62976| 0.0| 8.14|   0|0.538|5.949| 61.8|4.7075|  4|307|   21.0| 396.9| 8.26|20.4|\n",
            "|0.63796| 0.0| 8.14|   0|0.538|6.096| 84.5|4.4619|  4|307|   21.0|380.02|10.26|18.2|\n",
            "|0.62739| 0.0| 8.14|   0|0.538|5.834| 56.5|4.4986|  4|307|   21.0|395.62| 8.47|19.9|\n",
            "|1.05393| 0.0| 8.14|   0|0.538|5.935| 29.3|4.4986|  4|307|   21.0|386.85| 6.58|23.1|\n",
            "| 0.7842| 0.0| 8.14|   0|0.538| 5.99| 81.7|4.2579|  4|307|   21.0|386.75|14.67|17.5|\n",
            "|0.80271| 0.0| 8.14|   0|0.538|5.456| 36.6|3.7965|  4|307|   21.0|288.99|11.69|20.2|\n",
            "| 0.7258| 0.0| 8.14|   0|0.538|5.727| 69.5|3.7965|  4|307|   21.0|390.95|11.28|18.2|\n",
            "+-------+----+-----+----+-----+-----+-----+------+---+---+-------+------+-----+----+\n",
            "only showing top 20 rows\n",
            "\n"
          ]
        }
      ],
      "source": [
        "# Install Java\n",
        "!apt-get install openjdk-8-jdk-headless -qq > /dev/null\n",
        "\n",
        "# Install Spark (change the version number if needed)\n",
        "!wget -q https://archive.apache.org/dist/spark/spark-3.0.0/spark-3.0.0-bin-hadoop3.2.tgz\n",
        "\n",
        "# Unzip the Spark file to the current folder\n",
        "!tar xf spark-3.0.0-bin-hadoop3.2.tgz\n",
        "\n",
        "# Set your Spark folder to your system path environment\n",
        "import os\n",
        "os.environ[\"JAVA_HOME\"] = \"/usr/lib/jvm/java-8-openjdk-amd64\"\n",
        "os.environ[\"SPARK_HOME\"] = \"/content/spark-3.0.0-bin-hadoop3.2\"\n",
        "\n",
        "# Install findspark using pip\n",
        "!pip install -q findspark\n",
        "\n",
        "import findspark\n",
        "findspark.init()\n",
        "from pyspark.sql import SparkSession\n",
        "\n",
        "# Create Spark session\n",
        "spark = SparkSession.builder.master(\"local[*]\").enableHiveSupport().getOrCreate()\n",
        "\n",
        "# Show databases\n",
        "spark.sql(\"SHOW DATABASES\").show()\n",
        "\n",
        "# Task: Delete the \"bostonh\" database if it exists\n",
        "database_name = \"bostonh\"\n",
        "drop_database_query = f\"DROP DATABASE IF EXISTS {database_name} CASCADE\"\n",
        "spark.sql(drop_database_query)\n",
        "\n",
        "# Create new database\n",
        "spark.sql(\"CREATE DATABASE bostonh\")\n",
        "\n",
        "# Set the current database to bostonh\n",
        "spark.sql(\"USE bostonh\")\n",
        "\n",
        "# Show databases again to verify\n",
        "spark.sql(\"SHOW DATABASES\").show()\n",
        "\n",
        "# Upload CSV file from local system\n",
        "from google.colab import files\n",
        "uploaded = files.upload()\n",
        "\n",
        "# Read the uploaded CSV file\n",
        "dataset = spark.read.csv('BostonHousing.csv', inferSchema=True, header=True)\n",
        "dataset.show()\n",
        "\n",
        "# Save dataset as a table in the newly created database\n",
        "dataset.write.mode(\"overwrite\").saveAsTable(\"bostonh.bos_housing\")\n"
      ]
    },
    {
      "cell_type": "code",
      "source": [
        "# Task 1: Retrieve and display the first 5 rows of the dataset\n",
        "dataset = spark.sql(\"SELECT * FROM bostonh.bos_housing LIMIT 5\")\n",
        "dataset.show()\n",
        "\n",
        "# Task 1: Find and report the total number of records in the dataset\n",
        "total_records = spark.sql(\"SELECT COUNT(*) AS total_records FROM bostonh.bos_housing\").collect()[0][\"total_records\"]\n",
        "print(\"Total number of records in the dataset:\", total_records)\n"
      ],
      "metadata": {
        "colab": {
          "base_uri": "https://localhost:8080/"
        },
        "id": "EWT3ix9INAAj",
        "outputId": "347b087a-2bd4-4ef1-a04e-c86a7796bfa5"
      },
      "execution_count": 2,
      "outputs": [
        {
          "output_type": "stream",
          "name": "stdout",
          "text": [
            "+-------+----+-----+----+-----+-----+----+------+---+---+-------+------+-----+----+\n",
            "|   crim|  zn|indus|chas|  nox|   rm| age|   dis|rad|tax|ptratio|     b|lstat|medv|\n",
            "+-------+----+-----+----+-----+-----+----+------+---+---+-------+------+-----+----+\n",
            "|0.00632|18.0| 2.31|   0|0.538|6.575|65.2|  4.09|  1|296|   15.3| 396.9| 4.98|24.0|\n",
            "|0.02731| 0.0| 7.07|   0|0.469|6.421|78.9|4.9671|  2|242|   17.8| 396.9| 9.14|21.6|\n",
            "|0.02729| 0.0| 7.07|   0|0.469|7.185|61.1|4.9671|  2|242|   17.8|392.83| 4.03|34.7|\n",
            "|0.03237| 0.0| 2.18|   0|0.458|6.998|45.8|6.0622|  3|222|   18.7|394.63| 2.94|33.4|\n",
            "|0.06905| 0.0| 2.18|   0|0.458|7.147|54.2|6.0622|  3|222|   18.7| 396.9| 5.33|36.2|\n",
            "+-------+----+-----+----+-----+-----+----+------+---+---+-------+------+-----+----+\n",
            "\n",
            "Total number of records in the dataset: 506\n"
          ]
        }
      ]
    },
    {
      "cell_type": "code",
      "source": [
        "# Task 2: Calculate and display basic statistics for the \"medv\" column\n",
        "medv_stats = spark.sql(\"\"\"\n",
        "SELECT\n",
        "    MEAN(medv) AS mean_medv,\n",
        "    STDDEV(medv) AS stddev_medv,\n",
        "    MIN(medv) AS min_medv,\n",
        "    MAX(medv) AS max_medv\n",
        "FROM bostonh.bos_housing\n",
        "\"\"\")\n",
        "medv_stats.show()\n",
        "\n",
        "# Calculate and display the mean \"rm\"\n",
        "mean_rm = spark.sql(\"SELECT MEAN(rm) AS mean_rm FROM bostonh.bos_housing\")\n",
        "mean_rm.show()\n"
      ],
      "metadata": {
        "colab": {
          "base_uri": "https://localhost:8080/"
        },
        "id": "1F_arVNzNB6S",
        "outputId": "1d20be2f-a60f-4323-fb32-494b20ba6ef1"
      },
      "execution_count": 3,
      "outputs": [
        {
          "output_type": "stream",
          "name": "stdout",
          "text": [
            "+------------------+-----------------+--------+--------+\n",
            "|         mean_medv|      stddev_medv|min_medv|max_medv|\n",
            "+------------------+-----------------+--------+--------+\n",
            "|22.532806324110698|9.197104087379815|     5.0|    50.0|\n",
            "+------------------+-----------------+--------+--------+\n",
            "\n",
            "+-----------------+\n",
            "|          mean_rm|\n",
            "+-----------------+\n",
            "|6.284634387351787|\n",
            "+-----------------+\n",
            "\n"
          ]
        }
      ]
    },
    {
      "cell_type": "code",
      "source": [
        "# Identify the property with the highest crime rate (\"crim\")\n",
        "highest_crim = spark.sql(\"SELECT * FROM bostonh.bos_housing ORDER BY crim DESC LIMIT 1\")\n",
        "highest_crim.show()\n",
        "\n",
        "# Find and report the property with the lowest median home value (\"medv\")\n",
        "lowest_medv = spark.sql(\"SELECT * FROM bostonh.bos_housing ORDER BY medv ASC LIMIT 1\")\n",
        "lowest_medv.show()\n"
      ],
      "metadata": {
        "colab": {
          "base_uri": "https://localhost:8080/"
        },
        "id": "_CH4dUUwNB9j",
        "outputId": "f6b9372a-95a2-446c-af6e-9bcec61964a9"
      },
      "execution_count": 4,
      "outputs": [
        {
          "output_type": "stream",
          "name": "stdout",
          "text": [
            "+-------+---+-----+----+-----+-----+----+------+---+---+-------+-----+-----+----+\n",
            "|   crim| zn|indus|chas|  nox|   rm| age|   dis|rad|tax|ptratio|    b|lstat|medv|\n",
            "+-------+---+-----+----+-----+-----+----+------+---+---+-------+-----+-----+----+\n",
            "|88.9762|0.0| 18.1|   0|0.671|6.968|91.9|1.4165| 24|666|   20.2|396.9|17.21|10.4|\n",
            "+-------+---+-----+----+-----+-----+----+------+---+---+-------+-----+-----+----+\n",
            "\n",
            "+-------+---+-----+----+-----+-----+-----+------+---+---+-------+-----+-----+----+\n",
            "|   crim| zn|indus|chas|  nox|   rm|  age|   dis|rad|tax|ptratio|    b|lstat|medv|\n",
            "+-------+---+-----+----+-----+-----+-----+------+---+---+-------+-----+-----+----+\n",
            "|38.3518|0.0| 18.1|   0|0.693|5.453|100.0|1.4896| 24|666|   20.2|396.9|30.59| 5.0|\n",
            "+-------+---+-----+----+-----+-----+-----+------+---+---+-------+-----+-----+----+\n",
            "\n"
          ]
        }
      ]
    },
    {
      "cell_type": "code",
      "source": [
        "import matplotlib.pyplot as plt\n",
        "\n",
        "# Create a histogram showing the distribution of the \"age\" column\n",
        "age_data = spark.sql(\"SELECT age FROM bostonh.bos_housing\").collect()\n",
        "ages = [row[\"age\"] for row in age_data]\n",
        "\n",
        "plt.hist(ages, bins=20, edgecolor='k')\n",
        "plt.title('Distribution of Age')\n",
        "plt.xlabel('Age')\n",
        "plt.ylabel('Frequency')\n",
        "plt.show()\n",
        "\n",
        "# Calculate and report the percentage of properties with a \"chas\" value of 1\n",
        "chas_count = spark.sql(\"SELECT COUNT(*) AS chas_count FROM bostonh.bos_housing WHERE chas = 1\").collect()[0][\"chas_count\"]\n",
        "total_count = total_records\n",
        "percentage_chas = (chas_count / total_count) * 100\n",
        "print(f\"Percentage of properties with a 'chas' value of 1: {percentage_chas:.2f}%\")\n"
      ],
      "metadata": {
        "colab": {
          "base_uri": "https://localhost:8080/",
          "height": 489
        },
        "id": "HrEd29-1NCAs",
        "outputId": "f6e0a00c-66a2-46f4-e663-57572fa28f46"
      },
      "execution_count": 5,
      "outputs": [
        {
          "output_type": "display_data",
          "data": {
            "text/plain": [
              "<Figure size 640x480 with 1 Axes>"
            ],
            "image/png": "[encoded data removed]"
          },
          "metadata": {}
        },
        {
          "output_type": "stream",
          "name": "stdout",
          "text": [
            "Percentage of properties with a 'chas' value of 1: 6.92%\n"
          ]
        }
      ]
    },
    {
      "cell_type": "code",
      "source": [
        "# Calculate the correlation coefficient between \"rm\" and \"medv\"\n",
        "correlation_rm_medv = spark.sql(\"SELECT corr(rm, medv) AS correlation_rm_medv FROM bostonh.bos_housing\")\n",
        "correlation_rm_medv.show()\n",
        "\n",
        "# Investigate the correlation between \"ptratio\" and \"nox\"\n",
        "correlation_ptratio_nox = spark.sql(\"SELECT corr(ptratio, nox) AS correlation_ptratio_nox FROM bostonh.bos_housing\")\n",
        "correlation_ptratio_nox.show()\n"
      ],
      "metadata": {
        "colab": {
          "base_uri": "https://localhost:8080/"
        },
        "id": "qMGfdIrtNCDr",
        "outputId": "0b4e616b-3406-46bf-894f-d6b4d1659ffd"
      },
      "execution_count": 6,
      "outputs": [
        {
          "output_type": "stream",
          "name": "stdout",
          "text": [
            "+-------------------+\n",
            "|correlation_rm_medv|\n",
            "+-------------------+\n",
            "| 0.6953599470715401|\n",
            "+-------------------+\n",
            "\n",
            "+-----------------------+\n",
            "|correlation_ptratio_nox|\n",
            "+-----------------------+\n",
            "|    0.18893267711276893|\n",
            "+-----------------------+\n",
            "\n"
          ]
        }
      ]
    },
    {
      "cell_type": "code",
      "source": [
        "# Identify and display the top 5 neighborhoods with the highest median home values (\"medv\")\n",
        "top_5_neighborhoods = spark.sql(\"SELECT * FROM bostonh.bos_housing ORDER BY medv DESC LIMIT 5\")\n",
        "top_5_neighborhoods.show()\n",
        "\n",
        "# Calculate and report the average property age for neighborhoods with a \"chas\" value of 1 compared to those with \"chas\" value of 0\n",
        "avg_age_chas_1 = spark.sql(\"SELECT AVG(age) AS avg_age_chas_1 FROM bostonh.bos_housing WHERE chas = 1\")\n",
        "avg_age_chas_1.show()\n",
        "\n",
        "avg_age_chas_0 = spark.sql(\"SELECT AVG(age) AS avg_age_chas_0 FROM bostonh.bos_housing WHERE chas = 0\")\n",
        "avg_age_chas_0.show()\n"
      ],
      "metadata": {
        "colab": {
          "base_uri": "https://localhost:8080/"
        },
        "id": "ZgRoNY45NCGo",
        "outputId": "351e8c66-f5a6-489b-df68-e5f40f9182b1"
      },
      "execution_count": 7,
      "outputs": [
        {
          "output_type": "stream",
          "name": "stdout",
          "text": [
            "+-------+----+-----+----+-----+-----+----+------+---+---+-------+------+-----+----+\n",
            "|   crim|  zn|indus|chas|  nox|   rm| age|   dis|rad|tax|ptratio|     b|lstat|medv|\n",
            "+-------+----+-----+----+-----+-----+----+------+---+---+-------+------+-----+----+\n",
            "|1.51902| 0.0|19.58|   1|0.605|8.375|93.9| 2.162|  5|403|   14.7|388.45| 3.32|50.0|\n",
            "|0.01381|80.0| 0.46|   0|0.422|7.875|32.0|5.6484|  4|255|   14.4|394.23| 2.97|50.0|\n",
            "|2.01019| 0.0|19.58|   0|0.605|7.929|96.2|2.0459|  5|403|   14.7| 369.3|  3.7|50.0|\n",
            "|1.83377| 0.0|19.58|   1|0.605|7.802|98.2|2.0407|  5|403|   14.7|389.61| 1.92|50.0|\n",
            "|1.46336| 0.0|19.58|   0|0.605|7.489|90.8|1.9709|  5|403|   14.7|374.43| 1.73|50.0|\n",
            "+-------+----+-----+----+-----+-----+----+------+---+---+-------+------+-----+----+\n",
            "\n",
            "+-----------------+\n",
            "|   avg_age_chas_1|\n",
            "+-----------------+\n",
            "|77.50000000000001|\n",
            "+-----------------+\n",
            "\n",
            "+-----------------+\n",
            "|   avg_age_chas_0|\n",
            "+-----------------+\n",
            "|67.91167728237794|\n",
            "+-----------------+\n",
            "\n"
          ]
        }
      ]
    },
    {
      "cell_type": "code",
      "source": [
        "# Create a Hive view named \"property_age_view\" that includes the \"age\" and \"medv\" columns\n",
        "spark.sql(\"CREATE OR REPLACE VIEW property_age_view AS SELECT age, medv FROM bostonh.bos_housing\")\n",
        "\n",
        "# Retrieve data for visualization\n",
        "property_age_data = spark.sql(\"SELECT age, medv FROM property_age_view\").collect()\n",
        "ages = [row[\"age\"] for row in property_age_data]\n",
        "medvs = [row[\"medv\"] for row in property_age_data]\n",
        "\n",
        "# Plot a scatter plot of property age against median home value\n",
        "import matplotlib.pyplot as plt\n",
        "\n",
        "plt.scatter(ages, medvs, alpha=0.5)\n",
        "plt.title('Property Age vs Median Home Value')\n",
        "plt.xlabel('Age')\n",
        "plt.ylabel('Median Home Value')\n",
        "plt.show()\n"
      ],
      "metadata": {
        "colab": {
          "base_uri": "https://localhost:8080/",
          "height": 472
        },
        "id": "ZZ0em_McNNbL",
        "outputId": "73da1403-6d41-47a3-94ba-ec135c9e4527"
      },
      "execution_count": 8,
      "outputs": [
        {
          "output_type": "display_data",
          "data": {
            "text/plain": [
              "<Figure size 640x480 with 1 Axes>"
            ],
            "image/png": "[encoded data removed]"
          },
          "metadata": {}
        }
      ]
    },
    {
      "cell_type": "code",
      "source": [
        "# Identify and report properties with a \"crim\" value greater than 10\n",
        "outliers_crim = spark.sql(\"SELECT * FROM bostonh.bos_housing WHERE crim > 10\")\n",
        "outliers_crim.show()\n",
        "\n",
        "# Discuss the significance of detecting outliers in data analysis\n",
        "print(\"\"\"\n",
        "Detecting outliers is crucial in data analysis because outliers can significantly skew the results of the analysis.\n",
        "They can indicate errors in data collection, entry, or unexpected variations that warrant further investigation.\n",
        "By identifying and handling outliers appropriately, we can ensure the accuracy and reliability of our data insights.\n",
        "\"\"\")\n"
      ],
      "metadata": {
        "colab": {
          "base_uri": "https://localhost:8080/"
        },
        "id": "lEGdLW7wNPgj",
        "outputId": "c0aa1f46-3d0a-4e40-d79b-b4b95aea5928"
      },
      "execution_count": 9,
      "outputs": [
        {
          "output_type": "stream",
          "name": "stdout",
          "text": [
            "+-------+---+-----+----+-----+-----+-----+------+---+---+-------+------+-----+----+\n",
            "|   crim| zn|indus|chas|  nox|   rm|  age|   dis|rad|tax|ptratio|     b|lstat|medv|\n",
            "+-------+---+-----+----+-----+-----+-----+------+---+---+-------+------+-----+----+\n",
            "|13.5222|0.0| 18.1|   0|0.631|3.863|100.0|1.5106| 24|666|   20.2|131.42|13.33|23.1|\n",
            "|11.1081|0.0| 18.1|   0|0.668|4.906|100.0|1.1742| 24|666|   20.2| 396.9|34.77|13.8|\n",
            "|18.4982|0.0| 18.1|   0|0.668|4.138|100.0| 1.137| 24|666|   20.2| 396.9|37.97|13.8|\n",
            "|19.6091|0.0| 18.1|   0|0.671|7.313| 97.9|1.3163| 24|666|   20.2| 396.9|13.44|15.0|\n",
            "| 15.288|0.0| 18.1|   0|0.671|6.649| 93.3|1.3449| 24|666|   20.2|363.02|23.24|13.9|\n",
            "|23.6482|0.0| 18.1|   0|0.671| 6.38| 96.2|1.3861| 24|666|   20.2| 396.9|23.69|13.1|\n",
            "|17.8667|0.0| 18.1|   0|0.671|6.223|100.0|1.3861| 24|666|   20.2|393.74|21.78|10.2|\n",
            "|88.9762|0.0| 18.1|   0|0.671|6.968| 91.9|1.4165| 24|666|   20.2| 396.9|17.21|10.4|\n",
            "|15.8744|0.0| 18.1|   0|0.671|6.545| 99.1|1.5192| 24|666|   20.2| 396.9|21.08|10.9|\n",
            "|20.0849|0.0| 18.1|   0|  0.7|4.368| 91.2|1.4395| 24|666|   20.2|285.83|30.63| 8.8|\n",
            "|16.8118|0.0| 18.1|   0|  0.7|5.277| 98.1|1.4261| 24|666|   20.2| 396.9|30.81| 7.2|\n",
            "|24.3938|0.0| 18.1|   0|  0.7|4.652|100.0|1.4672| 24|666|   20.2| 396.9|28.28|10.5|\n",
            "|22.5971|0.0| 18.1|   0|  0.7|  5.0| 89.5|1.5184| 24|666|   20.2| 396.9|31.99| 7.4|\n",
            "|14.3337|0.0| 18.1|   0|  0.7| 4.88|100.0|1.5895| 24|666|   20.2|372.92|30.62|10.2|\n",
            "|11.5779|0.0| 18.1|   0|  0.7|5.036| 97.0|  1.77| 24|666|   20.2| 396.9|25.68| 9.7|\n",
            "|13.3598|0.0| 18.1|   0|0.693|5.887| 94.7|1.7821| 24|666|   20.2| 396.9|16.35|12.7|\n",
            "|38.3518|0.0| 18.1|   0|0.693|5.453|100.0|1.4896| 24|666|   20.2| 396.9|30.59| 5.0|\n",
            "|25.0461|0.0| 18.1|   0|0.693|5.987|100.0|1.5888| 24|666|   20.2| 396.9|26.77| 5.6|\n",
            "|14.2362|0.0| 18.1|   0|0.693|6.343|100.0|1.5741| 24|666|   20.2| 396.9|20.32| 7.2|\n",
            "|24.8017|0.0| 18.1|   0|0.693|5.349| 96.0|1.7028| 24|666|   20.2| 396.9|19.77| 8.3|\n",
            "+-------+---+-----+----+-----+-----+-----+------+---+---+-------+------+-----+----+\n",
            "only showing top 20 rows\n",
            "\n",
            "\n",
            "Detecting outliers is crucial in data analysis because outliers can significantly skew the results of the analysis.\n",
            "They can indicate errors in data collection, entry, or unexpected variations that warrant further investigation.\n",
            "By identifying and handling outliers appropriately, we can ensure the accuracy and reliability of our data insights.\n",
            "\n"
          ]
        }
      ]
    },
    {
      "cell_type": "code",
      "source": [
        "# Formulate a hypothesis: \"The average number of rooms (rm) has a significant impact on median home value (medv).\"\n",
        "\n",
        "# Conduct a hypothesis test using HiveQL\n",
        "# For simplicity, we will use a basic t-test assumption approach (though more complex statistical methods might be required in practice)\n",
        "hypothesis_test_query = \"\"\"\n",
        "SELECT\n",
        "    AVG(medv) AS avg_medv,\n",
        "    AVG(rm) AS avg_rm,\n",
        "    COUNT(*) AS count,\n",
        "    STDDEV(medv) AS stddev_medv,\n",
        "    STDDEV(rm) AS stddev_rm\n",
        "FROM bostonh.bos_housing\n",
        "\"\"\"\n",
        "hypothesis_test_result = spark.sql(hypothesis_test_query).collect()[0]\n",
        "\n",
        "mean_medv = hypothesis_test_result[\"avg_medv\"]\n",
        "mean_rm = hypothesis_test_result[\"avg_rm\"]\n",
        "count = hypothesis_test_result[\"count\"]\n",
        "stddev_medv = hypothesis_test_result[\"stddev_medv\"]\n",
        "stddev_rm = hypothesis_test_result[\"stddev_rm\"]\n",
        "\n",
        "print(f\"Mean medv: {mean_medv}, Mean rm: {mean_rm}\")\n",
        "print(f\"Count: {count}\")\n",
        "print(f\"Standard Deviation medv: {stddev_medv}, Standard Deviation rm: {stddev_rm}\")\n",
        "\n",
        "print(\"\"\"\n",
        "The hypothesis test indicates whether the average number of rooms (rm) has a significant impact on the median home value (medv).\n",
        "To confirm statistical significance, further analysis with proper statistical tests like t-test or regression analysis is recommended.\n",
        "\"\"\")\n"
      ],
      "metadata": {
        "colab": {
          "base_uri": "https://localhost:8080/"
        },
        "id": "029gHvPiNRvV",
        "outputId": "e1d11512-406a-4f90-c66d-c2de2bd3d0a6"
      },
      "execution_count": 10,
      "outputs": [
        {
          "output_type": "stream",
          "name": "stdout",
          "text": [
            "Mean medv: 22.532806324110698, Mean rm: 6.284634387351787\n",
            "Count: 506\n",
            "Standard Deviation medv: 9.197104087379815, Standard Deviation rm: 0.7026171434153232\n",
            "\n",
            "The hypothesis test indicates whether the average number of rooms (rm) has a significant impact on the median home value (medv).\n",
            "To confirm statistical significance, further analysis with proper statistical tests like t-test or regression analysis is recommended.\n",
            "\n"
          ]
        }
      ]
    }
  ]
}